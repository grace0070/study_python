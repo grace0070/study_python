{
 "cells": [
  {
   "cell_type": "code",
   "execution_count": null,
   "id": "6d712bd5-e99f-4f85-b86e-a990722370e2",
   "metadata": {},
   "outputs": [],
   "source": []
  },
  {
   "cell_type": "code",
   "execution_count": 1,
   "id": "8cbfba81-b646-4837-8eb2-91ea30c81a1e",
   "metadata": {},
   "outputs": [
    {
     "name": "stdout",
     "output_type": "stream",
     "text": [
      "안녕\n"
     ]
    }
   ],
   "source": [
    "print(\"안녕\")"
   ]
  },
  {
   "cell_type": "code",
   "execution_count": 2,
   "id": "fe402981-9a42-4324-a8e4-86457aade6e7",
   "metadata": {},
   "outputs": [
    {
     "name": "stdout",
     "output_type": "stream",
     "text": [
      " hi \n"
     ]
    }
   ],
   "source": [
    "print(\" hi \") # blabla"
   ]
  },
  {
   "cell_type": "code",
   "execution_count": 3,
   "id": "91965f4f-5258-4430-9f11-9048ce639d4a",
   "metadata": {},
   "outputs": [],
   "source": [
    "a= 9 \n",
    "b= 10"
   ]
  },
  {
   "cell_type": "code",
   "execution_count": 4,
   "id": "0ed05576-360a-4baa-9e75-de98e18ea68c",
   "metadata": {},
   "outputs": [
    {
     "name": "stdout",
     "output_type": "stream",
     "text": [
      "19\n",
      "-1\n",
      "90\n",
      "0.9\n",
      "0\n",
      "9\n"
     ]
    }
   ],
   "source": [
    "print( a+b)\n",
    "print( a-b)\n",
    "print( a*b)\n",
    "print( a/b)\n",
    "print( a//b)\n",
    "print( a%b)\n",
    "\n"
   ]
  },
  {
   "cell_type": "code",
   "execution_count": 5,
   "id": "b0d7446b-4da2-4377-ac69-5e6a0c8897a6",
   "metadata": {},
   "outputs": [
    {
     "name": "stdout",
     "output_type": "stream",
     "text": [
      "python data anaylist playwith data raw data\n"
     ]
    }
   ],
   "source": [
    "print( 'python', 'data anaylist' ,'playwith data', 'raw data')"
   ]
  },
  {
   "cell_type": "code",
   "execution_count": 6,
   "id": "58b411ec-6a50-47de-8125-83583eaa22e0",
   "metadata": {},
   "outputs": [
    {
     "name": "stdout",
     "output_type": "stream",
     "text": [
      "귤/딸기/배\n"
     ]
    }
   ],
   "source": [
    "print( '귤', '딸기', '배', sep='/')\n"
   ]
  },
  {
   "cell_type": "code",
   "execution_count": 7,
   "id": "9a16a9dc-4455-4233-8b7f-b90577f4d23c",
   "metadata": {},
   "outputs": [
    {
     "name": "stdout",
     "output_type": "stream",
     "text": [
      "['b', 'c']\n",
      "['b', 'c']\n"
     ]
    }
   ],
   "source": [
    "k=['a','b', 'c','d','e']\n",
    "print( k[1:3])\n",
    "print(k[-4:-2])\n"
   ]
  },
  {
   "cell_type": "code",
   "execution_count": 8,
   "id": "995838a9-f546-4b0b-8ccf-960823600ef2",
   "metadata": {},
   "outputs": [
    {
     "name": "stdout",
     "output_type": "stream",
     "text": [
      "['a', 'b', 'c', 'e']\n",
      "['b', 'c', 'e', 'a']\n"
     ]
    }
   ],
   "source": [
    "# 리스트 합치기  a + b\n",
    "\n",
    "l1=['a']\n",
    "l2 = ['b', 'c', 'e']\n",
    "\n",
    "print( l1+ l2)\n",
    "print(l2+l1)"
   ]
  },
  {
   "cell_type": "code",
   "execution_count": 9,
   "id": "266e96b3-deda-4a18-8ba8-9e5cc9331963",
   "metadata": {},
   "outputs": [
    {
     "name": "stdout",
     "output_type": "stream",
     "text": [
      "['a', 'aa']\n"
     ]
    }
   ],
   "source": [
    "# 리스트에 추가하기 \n",
    "\n",
    "l1.append('aa')\n",
    "print(l1)"
   ]
  },
  {
   "cell_type": "code",
   "execution_count": 11,
   "id": "940b1bd6-f8b1-4f0c-802a-3559b4ebf77b",
   "metadata": {},
   "outputs": [
    {
     "name": "stdout",
     "output_type": "stream",
     "text": [
      "banaan\n",
      "apple\n",
      "strawberry\n",
      "pear\n"
     ]
    }
   ],
   "source": [
    "# 반복문의 활용\n",
    "fruits = ['banaan', 'apple', 'strawberry', 'pear']\n",
    "for fruit in fruits: # fruits라는 리스트에서 원소를 순서대로 하나씩 거내 fruit이라 부르겠다 \n",
    "    print(fruit)"
   ]
  },
  {
   "cell_type": "code",
   "execution_count": 13,
   "id": "7fb5a9f4-6d93-4dda-87d1-ea84bb797051",
   "metadata": {},
   "outputs": [
    {
     "name": "stdout",
     "output_type": "stream",
     "text": [
      "applepineapple,banana\n"
     ]
    }
   ],
   "source": [
    "#문자열: 따옴표 필수 \n",
    "\n",
    "a = 'apple'\n",
    "b= 'pineapple,banana'\n",
    "\n",
    "ab= a+b\n",
    "print(ab)"
   ]
  },
  {
   "cell_type": "code",
   "execution_count": 14,
   "id": "7238423f-e394-4875-8536-94402967baf3",
   "metadata": {},
   "outputs": [
    {
     "name": "stdout",
     "output_type": "stream",
     "text": [
      " 2월  20일은 일요일입니다.\n"
     ]
    }
   ],
   "source": [
    "# 문자 포매팅 \n",
    "month = ' 2월 ' \n",
    "day = '20일'\n",
    "say = \"{} {}은 일요일입니다.\".format(month, day)\n",
    "print(say)"
   ]
  },
  {
   "cell_type": "code",
   "execution_count": 17,
   "id": "8bb54184-dc3b-4dbc-8342-eb932db17ba5",
   "metadata": {},
   "outputs": [
    {
     "name": "stdout",
     "output_type": "stream",
     "text": [
      "다\n",
      "사\n",
      "다라마\n",
      "라마바사\n"
     ]
    }
   ],
   "source": [
    "k = '가나다라마바사'\n",
    "\n",
    "print(k[2]) #다\n",
    "print(k[-1]) #사\n",
    "print(k[2:5]) #다라마\n",
    "print(k[3:]) #라마바사\n"
   ]
  },
  {
   "cell_type": "code",
   "execution_count": 20,
   "id": "f8ee2b72-d372-4887-9f57-bc2b3dc59bc4",
   "metadata": {},
   "outputs": [
    {
     "name": "stdout",
     "output_type": "stream",
     "text": [
      " hp010-0000-0000 \n",
      "hp010-0000-0000\n",
      "010-0000-0000\n",
      "['010', '0000', '0000']\n"
     ]
    }
   ],
   "source": [
    "# 문자열 정리 strip, replace, split\n",
    "\n",
    "t1=\" hp010-0000-0000 \"\n",
    "\n",
    "print(t1)\n",
    "t2=t1.strip()  # 공백제거\n",
    "print(t2)\n",
    "\n",
    "t3=t2.replace('hp', '') #대체\n",
    "print(t3)\n",
    "\n",
    "t4=t3.split('-') #제거 \n",
    "print(t4)"
   ]
  },
  {
   "cell_type": "code",
   "execution_count": 25,
   "id": "d045f8ba-a6a2-4aae-a585-1638b057e5b7",
   "metadata": {},
   "outputs": [
    {
     "name": "stdout",
     "output_type": "stream",
     "text": [
      " hi \n",
      " my name is grace .\n"
     ]
    }
   ],
   "source": [
    "def say_name(name):\n",
    "    print(' hi ')\n",
    "    print(' my name is ' + name+ ' .')\n",
    "\n",
    "say_name('grace')"
   ]
  },
  {
   "cell_type": "code",
   "execution_count": 26,
   "id": "701e9370-457a-40c3-93f3-21f09b8e8a3b",
   "metadata": {},
   "outputs": [
    {
     "name": "stdout",
     "output_type": "stream",
     "text": [
      "1000\n"
     ]
    }
   ],
   "source": [
    "def calcul(a,b):\n",
    "    result= a**b\n",
    "    return result \n",
    "test = calcul(10, 3)\n",
    "print(test)"
   ]
  },
  {
   "cell_type": "code",
   "execution_count": null,
   "id": "4f9080ef-f9dd-4911-aade-7dbfee1a8df7",
   "metadata": {},
   "outputs": [],
   "source": []
  }
 ],
 "metadata": {
  "kernelspec": {
   "display_name": "Python 3 (ipykernel)",
   "language": "python",
   "name": "python3"
  },
  "language_info": {
   "codemirror_mode": {
    "name": "ipython",
    "version": 3
   },
   "file_extension": ".py",
   "mimetype": "text/x-python",
   "name": "python",
   "nbconvert_exporter": "python",
   "pygments_lexer": "ipython3",
   "version": "3.11.7"
  }
 },
 "nbformat": 4,
 "nbformat_minor": 5
}
